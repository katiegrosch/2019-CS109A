{
 "cells": [
  {
   "cell_type": "markdown",
   "metadata": {},
   "source": [
    "\n",
    "# <img style=\"float: left; padding-right: 10px; width: 45px\" src=\"https://raw.githubusercontent.com/Harvard-IACS/2018-CS109A/master/content/styles/iacs.png\"> CS109A Introduction to Data Science\n",
    "\n",
    "## Homework 4: Logistic Regression\n",
    "\n",
    "**Harvard University**<br/>\n",
    "**Fall 2019**<br/>\n",
    "**Instructors**: Pavlos Protopapas, Kevin Rader, and Chris Tanner\n",
    "\n",
    "<hr style=\"height:2pt\">\n",
    "\n"
   ]
  },
  {
   "cell_type": "code",
   "execution_count": 1,
   "metadata": {},
   "outputs": [
    {
     "data": {
      "text/html": [
       "<style>\n",
       "blockquote { background: #AEDE94; }\n",
       "h1 { \n",
       "    padding-top: 25px;\n",
       "    padding-bottom: 25px;\n",
       "    text-align: left; \n",
       "    padding-left: 10px;\n",
       "    background-color: #DDDDDD; \n",
       "    color: black;\n",
       "}\n",
       "h2 { \n",
       "    padding-top: 10px;\n",
       "    padding-bottom: 10px;\n",
       "    text-align: left; \n",
       "    padding-left: 5px;\n",
       "    background-color: #EEEEEE; \n",
       "    color: black;\n",
       "}\n",
       "\n",
       "div.exercise {\n",
       "\tbackground-color: #ffcccc;\n",
       "\tborder-color: #E9967A; \t\n",
       "\tborder-left: 5px solid #800080; \n",
       "\tpadding: 0.5em;\n",
       "}\n",
       "\n",
       "span.sub-q {\n",
       "\tfont-weight: bold;\n",
       "}\n",
       "div.theme {\n",
       "\tbackground-color: #DDDDDD;\n",
       "\tborder-color: #E9967A; \t\n",
       "\tborder-left: 5px solid #800080; \n",
       "\tpadding: 0.5em;\n",
       "\tfont-size: 18pt;\n",
       "}\n",
       "div.gc { \n",
       "\tbackground-color: #AEDE94;\n",
       "\tborder-color: #E9967A; \t \n",
       "\tborder-left: 5px solid #800080; \n",
       "\tpadding: 0.5em;\n",
       "\tfont-size: 12pt;\n",
       "}\n",
       "p.q1 { \n",
       "    padding-top: 5px;\n",
       "    padding-bottom: 5px;\n",
       "    text-align: left; \n",
       "    padding-left: 5px;\n",
       "    background-color: #EEEEEE; \n",
       "    color: black;\n",
       "}\n",
       "header {\n",
       "   padding-top: 35px;\n",
       "    padding-bottom: 35px;\n",
       "    text-align: left; \n",
       "    padding-left: 10px;\n",
       "    background-color: #DDDDDD; \n",
       "    color: black;\n",
       "}\n",
       "</style>\n",
       "\n"
      ],
      "text/plain": [
       "<IPython.core.display.HTML object>"
      ]
     },
     "execution_count": 1,
     "metadata": {},
     "output_type": "execute_result"
    }
   ],
   "source": [
    "#RUN THIS CELL \n",
    "import requests\n",
    "from IPython.core.display import HTML\n",
    "styles = requests.get(\"https://raw.githubusercontent.com/Harvard-IACS/2018-CS109A/master/content/styles/cs109.css\").text\n",
    "HTML(styles)"
   ]
  },
  {
   "cell_type": "markdown",
   "metadata": {},
   "source": [
    "### INSTRUCTIONS\n",
    "\n",
    "- **This is an individual homework. No group collaboration.**\n",
    "- To submit your assignment follow the instructions given in Canvas.\n",
    "- Restart the kernel and run the whole notebook again before you submit. \n",
    "- As much as possible, try and stick to the hints and functions we import at the top of the homework, as those are the ideas and tools the class supports and is aiming to teach. And if a problem specifies a particular library you're required to use that library, and possibly others from the import list.\n",
    "- Please use .head() when viewing data. Do not submit a notebook that is excessively long because output was not suppressed or otherwise limited. "
   ]
  },
  {
   "cell_type": "code",
   "execution_count": 2,
   "metadata": {
    "collapsed": true
   },
   "outputs": [],
   "source": [
    "import numpy as np\n",
    "import pandas as pd\n",
    "\n",
    "from sklearn.linear_model import LinearRegression\n",
    "from sklearn.linear_model import LogisticRegression\n",
    "from sklearn.linear_model import LogisticRegressionCV\n",
    "from sklearn.linear_model import LassoCV\n",
    "\n",
    "from sklearn.neighbors import KNeighborsClassifier\n",
    "from sklearn.model_selection import cross_val_score\n",
    "from sklearn.metrics import accuracy_score\n",
    "from sklearn.model_selection import KFold\n",
    "from sklearn.preprocessing import MinMaxScaler\n",
    "from sklearn.model_selection import train_test_split\n",
    "\n",
    "import matplotlib\n",
    "import matplotlib.pyplot as plt\n",
    "%matplotlib inline\n",
    "\n",
    "import zipfile\n",
    "\n",
    "\n",
    "import seaborn as sns\n",
    "sns.set()\n"
   ]
  },
  {
   "cell_type": "markdown",
   "metadata": {},
   "source": [
    "<div class='theme'> Cancer Classification from Gene Expressions </div>\n",
    "\n",
    "In this problem, we will build a classification model to distinguish between two related classes of cancer, acute lymphoblastic leukemia (ALL) and acute myeloid leukemia (AML), using gene expression measurements. The data set is provided in the file `data/dataset_hw4.csv`. Each row in this file corresponds to a tumor tissue sample from a patient with one of the two forms of Leukemia. The first column contains the cancer type, with **0 indicating the ALL** class and **1 indicating the AML** class. Columns 2-7130 contain expression levels of 7129 genes recorded from each tissue sample. \n",
    "\n",
    "In the following questions, we will use linear and logistic regression to build classification models for this data set. \n"
   ]
  },
  {
   "cell_type": "markdown",
   "metadata": {},
   "source": [
    "<div class='exercise'><b> Question 1 [20 pts]: Data Exploration </b></div>\n",
    "\n",
    "First step is to  split  the observations into an approximate 80-20 train-test split.  Below is some code to do this for you (we want to make sure everyone has the same splits). Print dataset shape before splitting and after splitting. `Cancer_type` is our target column.\n",
    "\n",
    "\n",
    "**1.1** Take a peek at your training set (show a glimpse of what you did): you should notice the severe differences in the measurements from one gene to the next (some are negative, some hover around zero, and some are well into the thousands).  To account for these differences in scale and variability, normalize each predictor to vary between 0 and 1.\n",
    "\n",
    "\n",
    "**1.2** The training set contains more predictors than observations. What problem(s) can this lead to in fitting a classification model to such a data set? Explain in 3 or fewer sentences.\n",
    "\n",
    "\n",
    "**1.3** Identify and report which 10 genes individually discriminate between the two cancer classes the best (consider every gene in the data set).  Note: it wil lbe useful to save this list for future parts.\n",
    "\n",
    "Plot two histograms ofyour best predictor - one using training and another for the testing dataset. Each histogram should clearly distinguish two different `Cancer_type` classes.\n",
    "\n",
    "Hint: You may use t-testing to make this determination: #https://en.wikipedia.org/wiki/Welch%27s_t-test.\n",
    "\n",
    "\n",
    "**1.4** Using your top gene from the previous part (call it  `best_predictor`), create a classification model by manually eye-balling a value for this gene that would discriminate the two classes the best. Justify your choice in 1-2 sentences. Report the accuracy of this hand-chosen model on the test set.\n",
    "\n",
    "<hr> <hr>"
   ]
  },
  {
   "cell_type": "markdown",
   "metadata": {},
   "source": [
    "<hr>\n",
    "### Solutions"
   ]
  },
  {
   "cell_type": "markdown",
   "metadata": {},
   "source": [
    "**First step is to split the observations into an approximate 80-20 train-test split. Below is some code to do this for you (we want to make sure everyone has the same splits). Print dataset shape before splitting and after splitting. `Cancer_type` is our target column.**"
   ]
  },
  {
   "cell_type": "code",
   "execution_count": 3,
   "metadata": {
    "collapsed": true
   },
   "outputs": [],
   "source": [
    "np.random.seed(10)\n",
    "df = pd.read_csv('data/hw4_enhance.csv', index_col=0)\n",
    "\n",
    "\n",
    "X_train, X_test, y_train, y_test =train_test_split(df.loc[:, df.columns != 'Cancer_type'], \n",
    "                                                         df.Cancer_type, test_size=0.2, \n",
    "                                                         random_state = 109, \n",
    "                                                         stratify = df.Cancer_type)"
   ]
  },
  {
   "cell_type": "code",
   "execution_count": 4,
   "metadata": {},
   "outputs": [
    {
     "name": "stdout",
     "output_type": "stream",
     "text": [
      "(752, 7130)\n",
      "(601, 7129) (151, 7129) (601,) (151,)\n",
      "0.0    0.511968\n",
      "1.0    0.488032\n",
      "Name: Cancer_type, dtype: float64\n"
     ]
    }
   ],
   "source": [
    "\n",
    "print(df.shape)\n",
    "\n",
    "print(X_train.shape, X_test.shape, y_train.shape, y_test.shape)\n",
    "print(df.Cancer_type.value_counts(normalize=True))\n"
   ]
  },
  {
   "cell_type": "markdown",
   "metadata": {},
   "source": [
    "**1.1 Take a peek at your training set (show a glimpse of what you did): you should notice the severe differences in the measurements from one gene to the next (some are negative, some hover around zero, and some are well into the thousands).  To account for these differences in scale and variability, normalize each predictor to vary between 0 and 1.**\n"
   ]
  },
  {
   "cell_type": "code",
   "execution_count": 5,
   "metadata": {},
   "outputs": [
    {
     "data": {
      "text/html": [
       "<div>\n",
       "<style>\n",
       "    .dataframe thead tr:only-child th {\n",
       "        text-align: right;\n",
       "    }\n",
       "\n",
       "    .dataframe thead th {\n",
       "        text-align: left;\n",
       "    }\n",
       "\n",
       "    .dataframe tbody tr th {\n",
       "        vertical-align: top;\n",
       "    }\n",
       "</style>\n",
       "<table border=\"1\" class=\"dataframe\">\n",
       "  <thead>\n",
       "    <tr style=\"text-align: right;\">\n",
       "      <th></th>\n",
       "      <th>AFFX-BioB-5_at</th>\n",
       "      <th>AFFX-BioB-M_at</th>\n",
       "      <th>AFFX-BioB-3_at</th>\n",
       "      <th>AFFX-BioC-5_at</th>\n",
       "      <th>AFFX-BioC-3_at</th>\n",
       "      <th>AFFX-BioDn-5_at</th>\n",
       "      <th>AFFX-BioDn-3_at</th>\n",
       "      <th>AFFX-CreX-5_at</th>\n",
       "      <th>AFFX-CreX-3_at</th>\n",
       "      <th>AFFX-BioB-5_st</th>\n",
       "      <th>...</th>\n",
       "      <th>U48730_at</th>\n",
       "      <th>U58516_at</th>\n",
       "      <th>U73738_at</th>\n",
       "      <th>X06956_at</th>\n",
       "      <th>X16699_at</th>\n",
       "      <th>X83863_at</th>\n",
       "      <th>Z17240_at</th>\n",
       "      <th>L49218_f_at</th>\n",
       "      <th>M71243_f_at</th>\n",
       "      <th>Z78285_f_at</th>\n",
       "    </tr>\n",
       "  </thead>\n",
       "  <tbody>\n",
       "    <tr>\n",
       "      <th>486</th>\n",
       "      <td>-83.669345</td>\n",
       "      <td>-129.202197</td>\n",
       "      <td>91.188553</td>\n",
       "      <td>-132.634919</td>\n",
       "      <td>-416.659258</td>\n",
       "      <td>-566.248620</td>\n",
       "      <td>-549.255222</td>\n",
       "      <td>-208.415176</td>\n",
       "      <td>213.331881</td>\n",
       "      <td>-135.518811</td>\n",
       "      <td>...</td>\n",
       "      <td>111.849800</td>\n",
       "      <td>371.083898</td>\n",
       "      <td>252.006568</td>\n",
       "      <td>963.153393</td>\n",
       "      <td>9.955941</td>\n",
       "      <td>142.181944</td>\n",
       "      <td>442.730023</td>\n",
       "      <td>42.848269</td>\n",
       "      <td>512.106908</td>\n",
       "      <td>4.677488</td>\n",
       "    </tr>\n",
       "    <tr>\n",
       "      <th>604</th>\n",
       "      <td>-65.718571</td>\n",
       "      <td>-302.842019</td>\n",
       "      <td>-297.819728</td>\n",
       "      <td>-177.485917</td>\n",
       "      <td>-52.709137</td>\n",
       "      <td>-218.295750</td>\n",
       "      <td>195.983474</td>\n",
       "      <td>-268.235930</td>\n",
       "      <td>-328.630912</td>\n",
       "      <td>240.058672</td>\n",
       "      <td>...</td>\n",
       "      <td>252.867110</td>\n",
       "      <td>110.033722</td>\n",
       "      <td>203.197907</td>\n",
       "      <td>101.612259</td>\n",
       "      <td>-138.398658</td>\n",
       "      <td>245.767616</td>\n",
       "      <td>247.519122</td>\n",
       "      <td>-15.430358</td>\n",
       "      <td>-398.165984</td>\n",
       "      <td>-61.694246</td>\n",
       "    </tr>\n",
       "    <tr>\n",
       "      <th>341</th>\n",
       "      <td>-264.191248</td>\n",
       "      <td>-162.255274</td>\n",
       "      <td>127.997172</td>\n",
       "      <td>173.771779</td>\n",
       "      <td>-185.191211</td>\n",
       "      <td>40.011778</td>\n",
       "      <td>-1562.983106</td>\n",
       "      <td>-85.344926</td>\n",
       "      <td>-119.622143</td>\n",
       "      <td>219.619110</td>\n",
       "      <td>...</td>\n",
       "      <td>20.797496</td>\n",
       "      <td>-184.115075</td>\n",
       "      <td>-227.872398</td>\n",
       "      <td>140.876523</td>\n",
       "      <td>42.543763</td>\n",
       "      <td>28.594281</td>\n",
       "      <td>204.479474</td>\n",
       "      <td>9.831559</td>\n",
       "      <td>21.718266</td>\n",
       "      <td>19.522122</td>\n",
       "    </tr>\n",
       "    <tr>\n",
       "      <th>117</th>\n",
       "      <td>-92.558574</td>\n",
       "      <td>-109.788332</td>\n",
       "      <td>379.542547</td>\n",
       "      <td>391.641129</td>\n",
       "      <td>-184.507364</td>\n",
       "      <td>-577.178389</td>\n",
       "      <td>-293.421369</td>\n",
       "      <td>-372.534572</td>\n",
       "      <td>190.551199</td>\n",
       "      <td>-487.331438</td>\n",
       "      <td>...</td>\n",
       "      <td>180.678776</td>\n",
       "      <td>577.889184</td>\n",
       "      <td>-50.443125</td>\n",
       "      <td>417.586154</td>\n",
       "      <td>-11.190519</td>\n",
       "      <td>1478.997020</td>\n",
       "      <td>15.923333</td>\n",
       "      <td>112.986515</td>\n",
       "      <td>-107.706335</td>\n",
       "      <td>-25.673203</td>\n",
       "    </tr>\n",
       "    <tr>\n",
       "      <th>516</th>\n",
       "      <td>-143.099813</td>\n",
       "      <td>140.202023</td>\n",
       "      <td>-147.163850</td>\n",
       "      <td>222.339115</td>\n",
       "      <td>-231.007621</td>\n",
       "      <td>-753.616356</td>\n",
       "      <td>274.500343</td>\n",
       "      <td>-217.513332</td>\n",
       "      <td>-107.135509</td>\n",
       "      <td>-62.470938</td>\n",
       "      <td>...</td>\n",
       "      <td>139.821329</td>\n",
       "      <td>909.588696</td>\n",
       "      <td>43.531613</td>\n",
       "      <td>718.462679</td>\n",
       "      <td>-58.238405</td>\n",
       "      <td>232.494165</td>\n",
       "      <td>754.787059</td>\n",
       "      <td>-58.160474</td>\n",
       "      <td>1808.764690</td>\n",
       "      <td>-20.782346</td>\n",
       "    </tr>\n",
       "  </tbody>\n",
       "</table>\n",
       "<p>5 rows × 7129 columns</p>\n",
       "</div>"
      ],
      "text/plain": [
       "     AFFX-BioB-5_at  AFFX-BioB-M_at  AFFX-BioB-3_at  AFFX-BioC-5_at  \\\n",
       "486      -83.669345     -129.202197       91.188553     -132.634919   \n",
       "604      -65.718571     -302.842019     -297.819728     -177.485917   \n",
       "341     -264.191248     -162.255274      127.997172      173.771779   \n",
       "117      -92.558574     -109.788332      379.542547      391.641129   \n",
       "516     -143.099813      140.202023     -147.163850      222.339115   \n",
       "\n",
       "     AFFX-BioC-3_at  AFFX-BioDn-5_at  AFFX-BioDn-3_at  AFFX-CreX-5_at  \\\n",
       "486     -416.659258      -566.248620      -549.255222     -208.415176   \n",
       "604      -52.709137      -218.295750       195.983474     -268.235930   \n",
       "341     -185.191211        40.011778     -1562.983106      -85.344926   \n",
       "117     -184.507364      -577.178389      -293.421369     -372.534572   \n",
       "516     -231.007621      -753.616356       274.500343     -217.513332   \n",
       "\n",
       "     AFFX-CreX-3_at  AFFX-BioB-5_st     ...        U48730_at   U58516_at  \\\n",
       "486      213.331881     -135.518811     ...       111.849800  371.083898   \n",
       "604     -328.630912      240.058672     ...       252.867110  110.033722   \n",
       "341     -119.622143      219.619110     ...        20.797496 -184.115075   \n",
       "117      190.551199     -487.331438     ...       180.678776  577.889184   \n",
       "516     -107.135509      -62.470938     ...       139.821329  909.588696   \n",
       "\n",
       "      U73738_at   X06956_at   X16699_at    X83863_at   Z17240_at  L49218_f_at  \\\n",
       "486  252.006568  963.153393    9.955941   142.181944  442.730023    42.848269   \n",
       "604  203.197907  101.612259 -138.398658   245.767616  247.519122   -15.430358   \n",
       "341 -227.872398  140.876523   42.543763    28.594281  204.479474     9.831559   \n",
       "117  -50.443125  417.586154  -11.190519  1478.997020   15.923333   112.986515   \n",
       "516   43.531613  718.462679  -58.238405   232.494165  754.787059   -58.160474   \n",
       "\n",
       "     M71243_f_at  Z78285_f_at  \n",
       "486   512.106908     4.677488  \n",
       "604  -398.165984   -61.694246  \n",
       "341    21.718266    19.522122  \n",
       "117  -107.706335   -25.673203  \n",
       "516  1808.764690   -20.782346  \n",
       "\n",
       "[5 rows x 7129 columns]"
      ]
     },
     "execution_count": 5,
     "metadata": {},
     "output_type": "execute_result"
    }
   ],
   "source": [
    "X_train.head()"
   ]
  },
  {
   "cell_type": "code",
   "execution_count": 6,
   "metadata": {
    "collapsed": true
   },
   "outputs": [],
   "source": [
    "X_train_normalized = pd.DataFrame(MinMaxScaler().fit_transform(X_train), columns=X_train.columns, index=X_train.index)\n",
    "X_test_normalized = pd.DataFrame(MinMaxScaler().fit_transform(X_test), columns=X_test.columns, index=X_test.index)"
   ]
  },
  {
   "cell_type": "markdown",
   "metadata": {},
   "source": [
    "**1.2 The training set contains more predictors than observations. What problem(s) can this lead to in fitting a classification model to such a data set? Explain in 3 or fewer sentences.**"
   ]
  },
  {
   "cell_type": "markdown",
   "metadata": {},
   "source": [
    "This is called the \"curse of dimensionality\". Basically, as the number of features increases, the space becomes so large that the data become relatively sparse, which makes it hard to achieve statistical significance. Also, it makes it hard to find groups with similar properties (since the data points are all relatively far apart in the big space), which is exactly what a classifier needs to do."
   ]
  },
  {
   "cell_type": "markdown",
   "metadata": {},
   "source": [
    "**1.3** **Identify and report which 10 genes individually discriminate between the two cancer classes the best (consider every gene in the data set).  Note: it wil lbe useful to save this list for future parts.**\n",
    "\n",
    "**Plot two histograms of your best predictor - one using training and another for the testing dataset. Each histogram should clearly distinguish two different `Cancer_type` classes.**\n",
    "\n",
    "**Hint: You may use t-testing to make this determination: #https://en.wikipedia.org/wiki/Welch%27s_t-test.**"
   ]
  },
  {
   "cell_type": "code",
   "execution_count": 7,
   "metadata": {},
   "outputs": [],
   "source": [
    "import scipy\n",
    "\n",
    "gene_corrs = pd.DataFrame(list(map(lambda x: x[1], X_train_normalized.apply(lambda x: scipy.stats.ttest_ind(x, y_train, equal_var=False)))),columns=['p-value'])\n",
    "gene_corrs['gene'] = X_train_normalized.columns\n",
    "top_ten_genes = pd.DataFrame(gene_corrs.nlargest(10,'p-value'))"
   ]
  },
  {
   "cell_type": "markdown",
   "metadata": {},
   "source": [
    "These genes have the highest correlation with Cancer_type:"
   ]
  },
  {
   "cell_type": "code",
   "execution_count": 8,
   "metadata": {},
   "outputs": [
    {
     "data": {
      "text/html": [
       "<div>\n",
       "<style>\n",
       "    .dataframe thead tr:only-child th {\n",
       "        text-align: right;\n",
       "    }\n",
       "\n",
       "    .dataframe thead th {\n",
       "        text-align: left;\n",
       "    }\n",
       "\n",
       "    .dataframe tbody tr th {\n",
       "        vertical-align: top;\n",
       "    }\n",
       "</style>\n",
       "<table border=\"1\" class=\"dataframe\">\n",
       "  <thead>\n",
       "    <tr style=\"text-align: right;\">\n",
       "      <th></th>\n",
       "      <th>p-value</th>\n",
       "      <th>gene</th>\n",
       "    </tr>\n",
       "  </thead>\n",
       "  <tbody>\n",
       "    <tr>\n",
       "      <th>2945</th>\n",
       "      <td>0.999556</td>\n",
       "      <td>U25138_at</td>\n",
       "    </tr>\n",
       "    <tr>\n",
       "      <th>6985</th>\n",
       "      <td>0.999294</td>\n",
       "      <td>U09587_at</td>\n",
       "    </tr>\n",
       "    <tr>\n",
       "      <th>5249</th>\n",
       "      <td>0.999174</td>\n",
       "      <td>D26070_at</td>\n",
       "    </tr>\n",
       "    <tr>\n",
       "      <th>3337</th>\n",
       "      <td>0.999057</td>\n",
       "      <td>U51004_at</td>\n",
       "    </tr>\n",
       "    <tr>\n",
       "      <th>770</th>\n",
       "      <td>0.997969</td>\n",
       "      <td>D89077_at</td>\n",
       "    </tr>\n",
       "    <tr>\n",
       "      <th>5774</th>\n",
       "      <td>0.996943</td>\n",
       "      <td>HG2639-HT2735_s_at</td>\n",
       "    </tr>\n",
       "    <tr>\n",
       "      <th>1722</th>\n",
       "      <td>0.996621</td>\n",
       "      <td>M14539_at</td>\n",
       "    </tr>\n",
       "    <tr>\n",
       "      <th>7076</th>\n",
       "      <td>0.996511</td>\n",
       "      <td>U03735_f_at</td>\n",
       "    </tr>\n",
       "    <tr>\n",
       "      <th>4347</th>\n",
       "      <td>0.996321</td>\n",
       "      <td>X60483_at</td>\n",
       "    </tr>\n",
       "    <tr>\n",
       "      <th>804</th>\n",
       "      <td>0.995541</td>\n",
       "      <td>HG1614-HT1614_at</td>\n",
       "    </tr>\n",
       "  </tbody>\n",
       "</table>\n",
       "</div>"
      ],
      "text/plain": [
       "       p-value                gene\n",
       "2945  0.999556           U25138_at\n",
       "6985  0.999294           U09587_at\n",
       "5249  0.999174           D26070_at\n",
       "3337  0.999057           U51004_at\n",
       "770   0.997969           D89077_at\n",
       "5774  0.996943  HG2639-HT2735_s_at\n",
       "1722  0.996621           M14539_at\n",
       "7076  0.996511         U03735_f_at\n",
       "4347  0.996321           X60483_at\n",
       "804   0.995541    HG1614-HT1614_at"
      ]
     },
     "execution_count": 8,
     "metadata": {},
     "output_type": "execute_result"
    }
   ],
   "source": [
    "top_ten_genes"
   ]
  },
  {
   "cell_type": "code",
   "execution_count": 9,
   "metadata": {
    "collapsed": true
   },
   "outputs": [],
   "source": [
    "ALL_train = X_train_normalized[y_train==0]\n",
    "AML_train = X_train_normalized[y_train==1]\n",
    "ALL_test = X_test_normalized[y_test==0]\n",
    "AML_test = X_test_normalized[y_test==1]"
   ]
  },
  {
   "cell_type": "code",
   "execution_count": 10,
   "metadata": {},
   "outputs": [
    {
     "data": {
      "image/png": "[encoded data removed]",
      "text/plain": [
       "<matplotlib.figure.Figure at 0x11004db70>"
      ]
     },
     "metadata": {},
     "output_type": "display_data"
    }
   ],
   "source": [
    "fig, ax = plt.subplots(1,2, figsize=(20,10))\n",
    "\n",
    "sns.distplot(ALL_train['M28825_at'], label='ALL', ax=ax[0])\n",
    "sns.distplot(AML_train['M28825_at'], label='AML', ax=ax[0])\n",
    "ax[0].legend()\n",
    "ax[0].title.set_text('Training data')\n",
    "\n",
    "sns.distplot(ALL_test['M28825_at'], label='ALL', ax=ax[1])\n",
    "sns.distplot(AML_test['M28825_at'], label='AML', ax=ax[1])\n",
    "ax[1].legend()\n",
    "ax[1].title.set_text('Test data')"
   ]
  },
  {
   "cell_type": "markdown",
   "metadata": {},
   "source": [
    "**1.4 Using your top gene from the previous part (call it  `best_predictor`), create a classification model by eye-balling a value for this gene that would discriminate the two classes the best. Justify your choice in 1-2 sentences. Report the accuracy of this hand-chosen model on the test set.**\n"
   ]
  },
  {
   "cell_type": "code",
   "execution_count": 11,
   "metadata": {},
   "outputs": [
    {
     "name": "stdout",
     "output_type": "stream",
     "text": [
      "0.4807105150623568\n",
      "0.4940226661369962\n"
     ]
    }
   ],
   "source": [
    "best_predictor = top_ten_genes['gene'].iloc[0]\n",
    "\n",
    "print(AML_train[best_predictor].mean())\n",
    "print(ALL_train[best_predictor].mean())"
   ]
  },
  {
   "cell_type": "markdown",
   "metadata": {},
   "source": [
    "The means of the two are very similar (.2723 for ALL versus .2726 for AML). My classification model will use .2725 as the arbitrary cutoff, since it's halfway between the two."
   ]
  },
  {
   "cell_type": "code",
   "execution_count": 12,
   "metadata": {},
   "outputs": [
    {
     "name": "stdout",
     "output_type": "stream",
     "text": [
      "(62, 7129)\n",
      "(14, 7129)\n"
     ]
    },
    {
     "name": "stderr",
     "output_type": "stream",
     "text": [
      "/anaconda3/lib/python3.6/site-packages/ipykernel_launcher.py:2: UserWarning: Boolean Series key will be reindexed to match DataFrame index.\n",
      "  \n",
      "/anaconda3/lib/python3.6/site-packages/ipykernel_launcher.py:6: UserWarning: Boolean Series key will be reindexed to match DataFrame index.\n",
      "  \n"
     ]
    }
   ],
   "source": [
    "naive_ALL_diagnosis = X_test_normalized[X_test_normalized['M28825_at'] >= .2725]\n",
    "wrong_ALL_diagnosis = naive_ALL_diagnosis[y_test==1]\n",
    "print(wrong_ALL_diagnosis.shape)\n",
    "\n",
    "naive_AML_diagnosis = X_test_normalized[X_test_normalized['M28825_at'] < .2725]\n",
    "wrong_AML_diagnosis = naive_AML_diagnosis[y_test==0]\n",
    "print(wrong_AML_diagnosis.shape)"
   ]
  },
  {
   "cell_type": "markdown",
   "metadata": {},
   "source": [
    "With this naive test, we got 62 ALL diagnoses that were actually AML, and 14 AML diagnoses that were actually ALL. In total, that's 76 bad diagnoses, which out of 151 diagnoses is basically no better than a coin flip."
   ]
  },
  {
   "cell_type": "markdown",
   "metadata": {},
   "source": [
    "<div class='exercise'><b> Question 2 [25 pts]: Linear and Logistic Regression  </b></div>\n",
    "\n",
    "\n",
    "In class we discussed how to use both linear regression and logistic regression for classification. For this question, you will work with a single gene predictor that you identify as the best predictor above to explore these two methods.\n",
    "\n",
    "**2.1** Fit a simple linear regression model to the training set using the single gene predictor `best_predictor` to predict cancer type. The scores predicted by the regression model for a patient could be interpreted as an estimate of the probability that the patient has Cancer_type=1 (AML). Is there a problem with this interpretation?\n",
    "\n",
    "\n",
    "Create a figure with following items displayed on the same plot (use training data):\n",
    " - the predicted quantitative response from the linear regression model as a function of the best gene predictor\n",
    " - the true binary response. \n",
    "\n",
    "\n",
    "**2.2** Use your estimated linear regression model to classify observations into 0 and 1 using the standard Bayes' classifier.  Evaluate the classification accuracy of this classification model on both the training and test sets.\n",
    "\n",
    "\n",
    "**2.3** Next, fit a simple logistic regression model to the training set. How do the training and test classification accuracies of this model compare with the linear regression model? \n",
    "\n",
    "Remember, you need to set the regularization parameter for sklearn's logistic regression function to be a very large value in order to **not** regularize (use 'C=100000'). \n",
    "\n",
    "\n",
    "**2.4** \n",
    "Print and interpret the logistic regression coefficients: the 'slope' and intercept. \n",
    "\n",
    "\n",
    "Create 2 plots (one each for training and testing data) with 4 items displayed on each plot.\n",
    "- the predicted quantitative response from the linear regression model as a function of the best gene predictor.\n",
    "- the predicted probabilities of the logistic regression model as a function of the best gene predictor. \n",
    "- the true binary response. \n",
    "- a horizontal line at $y=0.5$. \n",
    "\n",
    "Based on these plots, does one of the models appear better suited for binary classification than the other?  Explain in 3 sentences or fewer. \n",
    "\n"
   ]
  },
  {
   "cell_type": "markdown",
   "metadata": {},
   "source": [
    "<hr>\n",
    "### Solutions"
   ]
  },
  {
   "cell_type": "markdown",
   "metadata": {},
   "source": [
    "**2.1** **Fit a simple linear regression model to the training set using the single gene predictor `best_predictor` to predict cancer type. The scores predicted by the regression model for a patient could be interpreted as an estimate of the probability that the patient has Cancer_type=1 (AML).  Is there a problem with this interpretation?**\n",
    "\n"
   ]
  },
  {
   "cell_type": "code",
   "execution_count": 13,
   "metadata": {},
   "outputs": [
    {
     "name": "stderr",
     "output_type": "stream",
     "text": [
      "/anaconda3/lib/python3.6/site-packages/ipykernel_launcher.py:1: FutureWarning: reshape is deprecated and will raise in a subsequent release. Please use .values.reshape(...) instead\n",
      "  \"\"\"Entry point for launching an IPython kernel.\n",
      "/anaconda3/lib/python3.6/site-packages/ipykernel_launcher.py:2: FutureWarning: reshape is deprecated and will raise in a subsequent release. Please use .values.reshape(...) instead\n",
      "  \n"
     ]
    }
   ],
   "source": [
    "best_predictor_train = X_train_normalized['M28825_at'].reshape(-1, 1) \n",
    "best_predictor_test = X_test_normalized['M28825_at'].reshape(-1, 1) \n",
    "\n",
    "lin_reg = LinearRegression()\n",
    "lin_reg.fit(best_predictor_train, y_train)\n",
    "lin_reg_predictions_train = lin_reg.predict(best_predictor_train)\n",
    "lin_reg_predictions_test = lin_reg.predict(best_predictor_test)"
   ]
  },
  {
   "cell_type": "markdown",
   "metadata": {
    "collapsed": true
   },
   "source": [
    "The problem here is that since our outcomes can only be 0 or 1, a linear regression doesn't really make sense. Linear regression models require continuous target variables to really make sense. "
   ]
  },
  {
   "cell_type": "markdown",
   "metadata": {},
   "source": [
    "**2.2** **Use your estimated linear regression model to classify observations into 0 and 1 using the standard Bayes' classifier.  Evaluate the classification accuracy of this classification model on both the training and test sets.**"
   ]
  },
  {
   "cell_type": "code",
   "execution_count": 14,
   "metadata": {},
   "outputs": [],
   "source": [
    "# TO DO"
   ]
  },
  {
   "cell_type": "markdown",
   "metadata": {},
   "source": [
    "\n",
    "**2.3** **Next, fit a simple logistic regression model to the training set. How do the training and test classification accuracies of this model compare with the linear regression model? Are the classifications substantially different?  Explain why this is the case.**\n",
    "\n",
    "**Remember, you need to set the regularization parameter for sklearn's logistic regression function to be a very large value in order to **not** regularize (use 'C=100000')."
   ]
  },
  {
   "cell_type": "code",
   "execution_count": 15,
   "metadata": {},
   "outputs": [
    {
     "data": {
      "text/plain": [
       "0.50993377483443714"
      ]
     },
     "execution_count": 15,
     "metadata": {},
     "output_type": "execute_result"
    }
   ],
   "source": [
    "log_reg = LogisticRegression(C=100000)\n",
    "log_reg.fit(best_predictor_train, y_train)\n",
    "log_reg_predictions_train = log_reg.predict_proba(best_predictor_train)\n",
    "log_reg_predictions_test = log_reg.predict_proba(best_predictor_test)\n",
    "log_reg.score(best_predictor_test, y_test)"
   ]
  },
  {
   "cell_type": "markdown",
   "metadata": {},
   "source": [
    "The $R^2$ score of the logistic regression model is .509. Basically, the Bayes classifier is a generative model, whereas the logistic regression is a discriminative model. The classification accuracies aren't much different at all."
   ]
  },
  {
   "cell_type": "markdown",
   "metadata": {},
   "source": [
    "**2.4 Print and interpret the logistic regression coefficients: the 'slope' and the intercept.**\n",
    "\n",
    "**Create 2 plots (with training and test data) with 4 items displayed on each plot.**\n",
    "- the predicted quantitative response from the linear regression model as a function of the best gene predictor.\n",
    "- the predicted probabilities of the logistic regression model as a function of the best gene predictor. \n",
    "- the true binary response. \n",
    "- a horizontal line at $y=0.5$.\n",
    "\n",
    "**Based on these plots, does one of the models appear better suited for binary classification than the other?  Explain in 3 sentences or fewer.** \n"
   ]
  },
  {
   "cell_type": "code",
   "execution_count": 16,
   "metadata": {},
   "outputs": [
    {
     "name": "stdout",
     "output_type": "stream",
     "text": [
      "The 'slope' is:  [-0.02672479]\n",
      "The intercept is:  [-0.04264493]\n"
     ]
    }
   ],
   "source": [
    "print(\"The 'slope' is: \", log_reg.coef_[0])\n",
    "print(\"The intercept is: \", log_reg.intercept_)"
   ]
  },
  {
   "cell_type": "markdown",
   "metadata": {},
   "source": [
    "The intercept is the log odds of having AML. The coefficient is the log of odds ratio between AML and ALL groups."
   ]
  },
  {
   "cell_type": "code",
   "execution_count": 17,
   "metadata": {},
   "outputs": [
    {
     "data": {
      "image/png": "[encoded data removed]",
      "text/plain": [
       "<matplotlib.figure.Figure at 0x112e645f8>"
      ]
     },
     "metadata": {},
     "output_type": "display_data"
    }
   ],
   "source": [
    "fig, ax = plt.subplots(1,2, figsize=(20,10))\n",
    "\n",
    "ax[0].scatter(best_predictor_train, lin_reg_predictions_train) # lin model\n",
    "ax[0].scatter(best_predictor_train, log_reg_predictions_train[:,1]) # log model\n",
    "ax[0].scatter(best_predictor_train, y_train) # true response\n",
    "ax[0].axhline(.5) # horizontal line\n",
    "ax[0].title.set_text(\"Training data\")\n",
    "\n",
    "ax[1].scatter(best_predictor_test, lin_reg_predictions_test) # lin model\n",
    "ax[1].scatter(best_predictor_test, log_reg_predictions_test[:,1]) # log model\n",
    "ax[1].scatter(best_predictor_test, y_test) # true response\n",
    "ax[1].axhline(.5) # horizontal line\n",
    "ax[1].title.set_text(\"Testing data\")"
   ]
  },
  {
   "cell_type": "code",
   "execution_count": 18,
   "metadata": {
    "collapsed": true
   },
   "outputs": [],
   "source": [
    "# TO DO: explain which model is better"
   ]
  },
  {
   "cell_type": "markdown",
   "metadata": {},
   "source": [
    "<div class='exercise'> <b> Question 3 [20pts]: Multiple Logistic Regression </b> </div>\n",
    "\n",
    "\n",
    "**3.1** Next, fit a multiple logistic regression model with all the gene predictors from the data set.  How does the classification accuracy of this model compare with the models fitted in question 2 with a single gene (on both the training and test sets)?  \n",
    "\n",
    "\n",
    "**3.2** How many of the coefficients estimated by this multiple logistic regression in the previous part are significantly different from zero at a *significance level of 5%*? Use the same value of C=100000 as before.\n",
    "\n",
    "**Hint:** To answer this question, use *bootstrapping* with 100 bootstrap samples/iterations.  \n",
    "\n",
    "\n",
    "**3.3** Comment on the classification accuracy of training and test set? Given the results above how would you assess the generalization capacity of your trained model? What other tests would you suggest to better guard against false sense of security on the accuracy of the model as a whole? \n",
    "\n",
    "**3.4** Now use regularization to improve predictions from the multiple logistic regression model.  Use LASSO-like regularization and cross-validation within the training set to tune the model.  Report the classification accuracy on both the training and test set.\n",
    "\n",
    "**3.5** Do the 10 best predictors from Q1 hold up as important features in this regularized model?  If not, explain why this is the case (feel free to use the data to support your explanation)."
   ]
  },
  {
   "cell_type": "markdown",
   "metadata": {},
   "source": [
    "<hr>\n",
    "### Solutions"
   ]
  },
  {
   "cell_type": "markdown",
   "metadata": {},
   "source": [
    "**3.1** **Next, fit a multiple logistic regression model with all the gene predictors from the data set.  How does the classification accuracy of this model compare with the models fitted in question 2 with a single gene (on both the training and test sets)?**  \n"
   ]
  },
  {
   "cell_type": "code",
   "execution_count": 19,
   "metadata": {},
   "outputs": [
    {
     "data": {
      "text/plain": [
       "0.76158940397350994"
      ]
     },
     "execution_count": 19,
     "metadata": {},
     "output_type": "execute_result"
    }
   ],
   "source": [
    "mult_log_reg = LogisticRegression(C=100000)\n",
    "mult_log_reg.fit(X_train_normalized, y_train)\n",
    "mult_log_reg.score(X_test_normalized, y_test)"
   ]
  },
  {
   "cell_type": "markdown",
   "metadata": {},
   "source": [
    "This model has much higher accuracy, with an $R^2$ score of .76 compared to .5 in the single gene model. "
   ]
  },
  {
   "cell_type": "markdown",
   "metadata": {},
   "source": [
    "**3.2** **How many of the coefficients estimated by this multiple logistic regression in the previous part are significantly different from zero at a *significance level of 5%*? Use the same value of C=100000 as before.**\n",
    "\n",
    "**Hint:** **To answer this question, use *bootstrapping* with 1000 bootstrap samples/iterations.**  \n"
   ]
  },
  {
   "cell_type": "code",
   "execution_count": 20,
   "metadata": {},
   "outputs": [
    {
     "name": "stderr",
     "output_type": "stream",
     "text": [
      "/anaconda3/lib/python3.6/site-packages/ipykernel_launcher.py:5: DeprecationWarning: \n",
      ".ix is deprecated. Please use\n",
      ".loc for label based indexing or\n",
      ".iloc for positional indexing\n",
      "\n",
      "See the documentation here:\n",
      "http://pandas.pydata.org/pandas-docs/stable/indexing.html#ix-indexer-is-deprecated\n",
      "  \"\"\"\n"
     ]
    },
    {
     "name": "stdout",
     "output_type": "stream",
     "text": [
      "Number of significant coefficients:  5320\n"
     ]
    }
   ],
   "source": [
    "coefs = []\n",
    "for i in range(0,100):\n",
    "    reg = LogisticRegression(C=100000)\n",
    "    x_sample = X_train_normalized.sample(frac=.1, replace=True)\n",
    "    y_sample = y_train.ix[x_sample.index]\n",
    "    reg.fit(x_sample, y_sample)\n",
    "    coefs.append(reg.coef_[0])\n",
    "\n",
    "def coef_p_values(coefs):\n",
    "    coefs = pd.DataFrame(coefs, columns=X_train_normalized.columns)\n",
    "    significances = coefs.apply(lambda x: scipy.stats.ttest_1samp(x, 0))\n",
    "    p_values = []\n",
    "    for i in range(0, len(significances)):\n",
    "        p_values.append(significances[i][1])\n",
    "    return p_values\n",
    "    \n",
    "print(\"Number of significant coefficients: \", len(list(filter(lambda x: x<.05, coef_p_values(coefs)))))"
   ]
  },
  {
   "cell_type": "markdown",
   "metadata": {},
   "source": [
    "**3.3 Open question: Comment on the classification accuracy of training and test set? Given the results above how would you assest the generalization capacity of your trained model? What other tests would you suggest to better guard against false sense of security on the accuracy of the model as a whole.**"
   ]
  },
  {
   "cell_type": "markdown",
   "metadata": {},
   "source": [
    "*your answer here*"
   ]
  },
  {
   "cell_type": "markdown",
   "metadata": {},
   "source": [
    "**3.4 Now use regularization to improve predictions from the multiple logistic regression model.  Use LASSO-like regularization and cross-validation within the training set to tune the model.  Report the classification accuracy on both the training and test set.**"
   ]
  },
  {
   "cell_type": "code",
   "execution_count": 21,
   "metadata": {},
   "outputs": [
    {
     "name": "stdout",
     "output_type": "stream",
     "text": [
      "Training R2:  0.908485856905\n",
      "Testing R2:  0.82119205298\n"
     ]
    }
   ],
   "source": [
    "multi_log_reg_lasso = LogisticRegressionCV(penalty='l1', solver='liblinear')\n",
    "multi_log_reg_lasso.fit(X_train_normalized, y_train)\n",
    "print(\"Training R2: \", multi_log_reg_lasso.score(X_train_normalized, y_train))\n",
    "print(\"Testing R2: \", multi_log_reg_lasso.score(X_test_normalized, y_test))"
   ]
  },
  {
   "cell_type": "markdown",
   "metadata": {},
   "source": [
    "**3.5: Do the 10 best predictors from Q1 hold up as important features in this regularized model?  If not, explain why this is the case (feel free to use the data to support your explanation).**"
   ]
  },
  {
   "cell_type": "code",
   "execution_count": 23,
   "metadata": {},
   "outputs": [
    {
     "name": "stdout",
     "output_type": "stream",
     "text": [
      "Genes with highest coefficents: \n",
      "L78833_cds2_at\n",
      "M31523_at\n",
      "HG2562-HT2658_s_at\n",
      "U29175_at\n",
      "X98172_at\n",
      "X97267_rna1_s_at\n",
      "M65214_s_at\n",
      "U18271_cds3_s_at\n",
      "X71348_at\n",
      "U02493_at\n",
      "\n",
      "10 best predictors from Q1: \n",
      "U25138_at\n",
      "U09587_at\n",
      "D26070_at\n",
      "U51004_at\n",
      "D89077_at\n",
      "HG2639-HT2735_s_at\n",
      "M14539_at\n",
      "U03735_f_at\n",
      "X60483_at\n",
      "HG1614-HT1614_at\n"
     ]
    }
   ],
   "source": [
    "coefs = pd.DataFrame(multi_log_reg_lasso.coef_, columns=X_train_normalized.columns)\n",
    "\n",
    "coefs=coefs.sort_values(by=0, axis=1)\n",
    "top_ten_coefs = coefs.columns[:10]\n",
    "print(\"Genes with highest coefficents: \")\n",
    "for x in top_ten_coefs: print (x)\n",
    "print(\"\\n10 best predictors from Q1: \")\n",
    "for x in (list(top_ten_genes['gene'])): print(x)"
   ]
  },
  {
   "cell_type": "markdown",
   "metadata": {},
   "source": [
    "There is no overalap between the genes that ended up being important to our model, and the genes that had the highest correlation with Cancer_type in Q1. "
   ]
  },
  {
   "cell_type": "markdown",
   "metadata": {},
   "source": [
    "<div class='exercise'> <b> Question 4 [25pts]: Multi Class Log Regression </b> </div>"
   ]
  },
  {
   "cell_type": "markdown",
   "metadata": {},
   "source": [
    "**4.1** Load the data from `hw4_mc_enhance.csv.zip` and examine its structure. How many instances of each class are there in our dataset? \n",
    "\n",
    "**4.2** Split the dataset into train and test, 80-20 split, random_state = 8. \n",
    "\n",
    "We are going to utilize these two features - 'M31523_at', 'X95735_at'.  Create a scatter plot of these two features using the training dataset.  It should be easily discernable via labeling/marking in the plot which observations belong to which `cancer_type`.\n",
    "\n",
    "**4.3** Fit the following two models using crossvalidation: \n",
    "- Logistic Regression Multiclass model with linear features. \n",
    "- Logistic Regression Multiclass model with Polynomial features, degree = 2.\n",
    "\n",
    "**4.4** Plot the decision boundaries for each model and interpret the results. Hint: You may utilize the function `overlay_decision_boundary`. \n",
    "\n",
    "**4.5** Report and plot the CV scores for the two models and interpret. \n"
   ]
  },
  {
   "cell_type": "markdown",
   "metadata": {},
   "source": [
    "<hr>\n",
    "### Solutions"
   ]
  },
  {
   "cell_type": "markdown",
   "metadata": {},
   "source": [
    "**4.1 Load the data from `hw4_mc_enhance.csv.zip` and examine its structure. How many instances of each class are there in our dataset?**"
   ]
  },
  {
   "cell_type": "code",
   "execution_count": null,
   "metadata": {
    "collapsed": true
   },
   "outputs": [],
   "source": [
    "#your code here\n"
   ]
  },
  {
   "cell_type": "code",
   "execution_count": null,
   "metadata": {
    "collapsed": true
   },
   "outputs": [],
   "source": [
    "#your code here \n"
   ]
  },
  {
   "cell_type": "markdown",
   "metadata": {},
   "source": [
    "**4.2 Split the dataset into train and test, 80-20 split, random_state = 8.**\n",
    "\n",
    "**We are going to utilize these two features - 'M31523_at', 'X95735_at'.  Create a scatter plot of these two features using training dataset.  We should be able to discern from the plot which sample belongs to which `cancer_type`.** "
   ]
  },
  {
   "cell_type": "code",
   "execution_count": null,
   "metadata": {
    "collapsed": true
   },
   "outputs": [],
   "source": [
    "# your code here\n"
   ]
  },
  {
   "cell_type": "code",
   "execution_count": null,
   "metadata": {
    "collapsed": true
   },
   "outputs": [],
   "source": [
    "# your code here\n"
   ]
  },
  {
   "cell_type": "markdown",
   "metadata": {},
   "source": [
    "**4.3  Fit the following two models using crossvalidation:**\n",
    "\n",
    "**Logistic Regression Multiclass model with linear features.**\n",
    "\n",
    "**Logistic Regression Multiclass model with Polynomial features, degree = 2.**\n"
   ]
  },
  {
   "cell_type": "code",
   "execution_count": null,
   "metadata": {
    "collapsed": true
   },
   "outputs": [],
   "source": [
    "# your code here\n"
   ]
  },
  {
   "cell_type": "code",
   "execution_count": null,
   "metadata": {
    "collapsed": true
   },
   "outputs": [],
   "source": [
    "# your code here\n"
   ]
  },
  {
   "cell_type": "markdown",
   "metadata": {},
   "source": [
    "**4.4 Plot the decision boundary and interpret results. Hint: You may utilize the function `overlay_decision_boundary`** \n"
   ]
  },
  {
   "cell_type": "code",
   "execution_count": null,
   "metadata": {
    "collapsed": true
   },
   "outputs": [],
   "source": [
    "def overlay_decision_boundary(ax, model, colors=None, nx=200, ny=200, desaturate=.5, xlim=None, ylim=None):\n",
    "    \"\"\"\n",
    "    A function that visualizes the decision boundaries of a classifier.\n",
    "    \n",
    "    ax: Matplotlib Axes to plot on\n",
    "    model: Classifier to use.\n",
    "     - if `model` has a `.predict` method, like an sklearn classifier, we call `model.predict(X)`\n",
    "     - otherwise, we simply call `model(X)`\n",
    "    colors: list or dict of colors to use. Use color `colors[i]` for class i.\n",
    "     - If colors is not provided, uses the current color cycle\n",
    "    nx, ny: number of mesh points to evaluated the classifier on\n",
    "    desaturate: how much to desaturate each of the colors (for better contrast with the sample points)\n",
    "    xlim, ylim: range to plot on. (If the default, None, is passed, the limits will be taken from `ax`.)\n",
    "    \"\"\"\n",
    "    # Create mesh.\n",
    "    xmin, xmax = ax.get_xlim() if xlim is None else xlim\n",
    "    ymin, ymax = ax.get_ylim() if ylim is None else ylim\n",
    "    xx, yy = np.meshgrid(\n",
    "        np.linspace(xmin, xmax, nx),\n",
    "        np.linspace(ymin, ymax, ny))\n",
    "    X = np.c_[xx.flatten(), yy.flatten()]\n",
    "\n",
    "    # Predict on mesh of points.\n",
    "    model = getattr(model, 'predict', model)\n",
    "    y = model(X)\n",
    "    #print(\"Do I predict\" , y)\n",
    "    \n",
    "    \n",
    "#     y[np.where(y=='aml')]=3\n",
    "#     y[np.where(y=='allT')]=2\n",
    "#     y[np.where(y=='allB')]=1\n",
    "    \n",
    "    \n",
    "    \n",
    "    y = y.astype(int) # This may be necessary for 32-bit Python.\n",
    "    y = y.reshape((nx, ny))\n",
    "\n",
    "    # Generate colormap.\n",
    "    if colors is None:\n",
    "        # If colors not provided, use the current color cycle.\n",
    "        # Shift the indices so that the lowest class actually predicted gets the first color.\n",
    "        # ^ This is a bit magic, consider removing for next year.\n",
    "        colors = (['white'] * np.min(y)) + sns.utils.get_color_cycle()\n",
    "\n",
    "    if isinstance(colors, dict):\n",
    "        missing_colors = [idx for idx in np.unique(y) if idx not in colors]\n",
    "        assert len(missing_colors) == 0, f\"Color not specified for predictions {missing_colors}.\"\n",
    "\n",
    "        # Make a list of colors, filling in items from the dict.\n",
    "        color_list = ['white'] * (np.max(y) + 1)\n",
    "        for idx, val in colors.items():\n",
    "            color_list[idx] = val\n",
    "    else:\n",
    "        assert len(colors) >= np.max(y) + 1, \"Insufficient colors passed for all predictions.\"\n",
    "        color_list = colors\n",
    "    color_list = [sns.utils.desaturate(color, desaturate) for color in color_list]\n",
    "    cmap = matplotlib.colors.ListedColormap(color_list)\n",
    "\n",
    "    # Plot decision surface\n",
    "    ax.pcolormesh(xx, yy, y, zorder=-2, cmap=cmap, norm=matplotlib.colors.NoNorm(), vmin=0, vmax=y.max() + 1)\n",
    "    xx = xx.reshape(nx, ny)\n",
    "    yy = yy.reshape(nx, ny)\n",
    "    if len(np.unique(y)) > 1:\n",
    "        ax.contour(xx, yy, y, colors=\"black\", linewidths=1, zorder=-1)\n",
    "    else:\n",
    "        print(\"Warning: only one class predicted, so not plotting contour lines.\")"
   ]
  },
  {
   "cell_type": "code",
   "execution_count": null,
   "metadata": {
    "collapsed": true
   },
   "outputs": [],
   "source": [
    "# Your code here\n"
   ]
  },
  {
   "cell_type": "code",
   "execution_count": null,
   "metadata": {
    "collapsed": true
   },
   "outputs": [],
   "source": [
    "# your code here\n"
   ]
  },
  {
   "cell_type": "markdown",
   "metadata": {},
   "source": [
    "**4.5 Report and plot the CV scores for the two models and interpret.**"
   ]
  },
  {
   "cell_type": "code",
   "execution_count": null,
   "metadata": {
    "collapsed": true
   },
   "outputs": [],
   "source": [
    "# your code here\n"
   ]
  },
  {
   "cell_type": "code",
   "execution_count": null,
   "metadata": {
    "collapsed": true
   },
   "outputs": [],
   "source": [
    "# your code here\n"
   ]
  },
  {
   "cell_type": "markdown",
   "metadata": {},
   "source": [
    "<div class='exercise'><b> Question 5: [10 pts] Including an 'abstain' option </b></div>\n",
    "\n",
    "One of the reasons a hospital might be hesitant to use your cancer classification model is that a misdiagnosis by the model on a patient can sometimes prove to be very costly (e.g. if the patient were to file a law suit seeking a compensation for damages). One way to mitigate this concern is to allow the model to 'abstain' from making a prediction: whenever it is uncertain about the diagnosis for a patient. However, when the model abstains from making a prediction, the hospital will have to forward the patient to a specialist, which would incur additional cost.  How could one design a cancer classification model with an abstain option, such that the cost to the hospital is minimized?\n",
    "\n",
    "*Hint:* Think of ways to build on top of the logistic regression model and have it abstain on patients who are difficult to classify."
   ]
  },
  {
   "cell_type": "markdown",
   "metadata": {},
   "source": [
    "**5.1** More specifically, suppose the cost incurred by a hospital when a model mis-predicts on a patient is $\\$5000$ , and the cost incurred when the model abstains from making a prediction is \\$1000. What is the average cost per patient for the OvR logistic regression model (without quadratic or interaction terms) from **Question 4**.  Note that this needs to be evaluated on the patients in the test set. "
   ]
  },
  {
   "cell_type": "markdown",
   "metadata": {},
   "source": [
    "**5.2** Design a classification strategy (into the 3 groups plus the *abstain* group) that has as low cost as possible per patient (certainly lower cost per patient than the logistic regression model).   Give a justification for your approach."
   ]
  },
  {
   "cell_type": "markdown",
   "metadata": {},
   "source": [
    "<hr>\n",
    "### Solutions"
   ]
  },
  {
   "cell_type": "markdown",
   "metadata": {},
   "source": [
    "**5.1 More specifically, suppose the cost incurred by a hospital when a model mis-predicts on a patient is $\\$5000$ , and the cost incurred when the model abstains from making a prediction is \\$1000. What is the average cost per patient for the OvR logistic regression model (without quadratic or interaction terms) from Question 4.  Note that this needs to be evaluated on the patients in the test set.**\n",
    "**\n",
    "...\n",
    "**"
   ]
  },
  {
   "cell_type": "markdown",
   "metadata": {},
   "source": [
    "*your answer here* \n"
   ]
  },
  {
   "cell_type": "code",
   "execution_count": null,
   "metadata": {
    "collapsed": true
   },
   "outputs": [],
   "source": [
    "# your code here\n"
   ]
  },
  {
   "cell_type": "markdown",
   "metadata": {},
   "source": [
    "**5.2 Design a classification strategy (into the 3 groups plus the *abstain* group) that has as low cost as possible per patient (certainly lower cost per patient than the logistic regression model).   Give a justification for your approach.**"
   ]
  },
  {
   "cell_type": "code",
   "execution_count": null,
   "metadata": {
    "collapsed": true
   },
   "outputs": [],
   "source": [
    "# your code here\n"
   ]
  },
  {
   "cell_type": "code",
   "execution_count": null,
   "metadata": {
    "collapsed": true
   },
   "outputs": [],
   "source": []
  },
  {
   "cell_type": "code",
   "execution_count": null,
   "metadata": {
    "collapsed": true
   },
   "outputs": [],
   "source": []
  }
 ],
 "metadata": {
  "kernelspec": {
   "display_name": "Python 3",
   "language": "python",
   "name": "python3"
  },
  "language_info": {
   "codemirror_mode": {
    "name": "ipython",
    "version": 3
   },
   "file_extension": ".py",
   "mimetype": "text/x-python",
   "name": "python",
   "nbconvert_exporter": "python",
   "pygments_lexer": "ipython3",
   "version": "3.6.3"
  }
 },
 "nbformat": 4,
 "nbformat_minor": 2
}
